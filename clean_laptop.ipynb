{
 "cells": [
  {
   "cell_type": "markdown",
   "metadata": {},
   "source": [
    "Window + R"
   ]
  },
  {
   "cell_type": "markdown",
   "metadata": {},
   "source": [
    "You can clean temporary files and improve your laptop's performance by using **Run commands** (`Windows + R`). Here are some useful commands for cleaning and managing your system:  \n",
    "\n",
    "### 1. **Clean Temporary Files**  \n",
    "   - **Command:** `temp`  \n",
    "     - **Steps:**  \n",
    "       1. Press `Windows + R` to open the Run dialog.  \n",
    "       2. Type `temp` and press Enter.  \n",
    "       3. A folder will open. Select all files (`Ctrl + A`) and delete them.  \n",
    "       4. Skip any files that are in use.  \n",
    "\n",
    "   - **Command:** `%temp%`  \n",
    "     - Similar to `temp`, but it opens a different temporary files folder. Repeat the steps above to clean it.\n",
    "\n",
    "### 2. **Prefetch Files**  \n",
    "   - **Command:** `prefetch`  \n",
    "     - **Steps:**  \n",
    "       1. Open Run (`Windows + R`), type `prefetch`, and press Enter.  \n",
    "       2. You may need administrator permission; click **Continue** if prompted.  \n",
    "       3. Delete all the files in the folder to clear preloaded application data.  \n",
    "\n",
    "### 3. **Disk Cleanup**  \n",
    "   - **Command:** `cleanmgr`  \n",
    "     - **Steps:**  \n",
    "       1. Open Run, type `cleanmgr`, and press Enter.  \n",
    "       2. Choose a drive (usually `C:`) and let it analyze.  \n",
    "       3. Check the boxes for the types of files you want to delete (e.g., temporary files, recycle bin).  \n",
    "       4. Click **OK** to clean the drive.  \n",
    "\n",
    "### 4. **Remove Unused Programs**  \n",
    "   - **Command:** `appwiz.cpl`  \n",
    "     - **Steps:**  \n",
    "       1. Open Run, type `appwiz.cpl`, and press Enter.  \n",
    "       2. This opens the Programs and Features window.  \n",
    "       3. Uninstall programs you no longer need.  \n",
    "\n",
    "### 5. **Manage Startup Programs**  \n",
    "   - **Command:** `msconfig`  \n",
    "     - **Steps:**  \n",
    "       1. Open Run, type `msconfig`, and press Enter.  \n",
    "       2. Go to the **Startup** tab (or open Task Manager if using Windows 10/11).  \n",
    "       3. Disable unnecessary startup programs to improve boot speed.  \n",
    "\n",
    "### 6. **Clear DNS Cache**  \n",
    "   - **Command:** `cmd`  \n",
    "     - **Steps:**  \n",
    "       1. Open Run, type `cmd`, and press Enter.  \n",
    "       2. In the Command Prompt, type:  \n",
    "          ```bash\n",
    "          ipconfig /flushdns\n",
    "          ```  \n",
    "       3. Press Enter to clear the DNS cache.  \n",
    "\n",
    "### 7. **Recycle Bin**  \n",
    "   - **Command:** `shell:RecycleBinFolder`  \n",
    "     - Opens the Recycle Bin directly for cleanup.  \n",
    "\n",
    "---\n",
    "\n",
    "Regular maintenance using these commands can help keep your laptop clean and optimized. Always be cautious and avoid deleting unknown system files."
   ]
  }
 ],
 "metadata": {
  "language_info": {
   "name": "python"
  }
 },
 "nbformat": 4,
 "nbformat_minor": 2
}
